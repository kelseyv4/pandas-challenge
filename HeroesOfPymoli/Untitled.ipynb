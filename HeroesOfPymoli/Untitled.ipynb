{
 "cells": [
  {
   "cell_type": "markdown",
   "metadata": {},
   "source": [
    "Purchasing Analysis (Total)\n",
    "\n",
    "Number of Unique Items\n",
    "Average Purchase Price\n",
    "Total Number of Purchases\n",
    "Total Revenue\n"
   ]
  },
  {
   "cell_type": "code",
   "execution_count": null,
   "metadata": {},
   "outputs": [],
   "source": []
  },
  {
   "cell_type": "markdown",
   "metadata": {},
   "source": [
    "Gender Demographics\n",
    "\n",
    "Percentage and Count of Male Players\n",
    "Percentage and Count of Female Players\n",
    "Percentage and Count of Other / Non-Disclosed"
   ]
  },
  {
   "cell_type": "markdown",
   "metadata": {},
   "source": [
    "Purchasing Analysis (Gender)\n",
    "\n",
    "The below each broken by gender\n",
    "\n",
    "Purchase Count\n",
    "Average Purchase Price\n",
    "Total Purchase Value\n",
    "Average Purchase Total per Person by Gender"
   ]
  },
  {
   "cell_type": "markdown",
   "metadata": {},
   "source": [
    "Age Demographics\n",
    "\n",
    "The below each broken into bins of 4 years (i.e. <10, 10-14, 15-19, etc.)\n",
    "\n",
    "Purchase Count\n",
    "Average Purchase Price\n",
    "Total Purchase Value\n",
    "Average Purchase Total per Person by Age Group"
   ]
  },
  {
   "cell_type": "markdown",
   "metadata": {},
   "source": [
    "Top Spenders\n",
    "\n",
    "Identify the the top 5 spenders in the game by total purchase value, then list (in a table):\n",
    "\n",
    "SN\n",
    "Purchase Count\n",
    "Average Purchase Price\n",
    "Total Purchase Value"
   ]
  },
  {
   "cell_type": "markdown",
   "metadata": {},
   "source": [
    "Most Popular Items\n",
    "\n",
    "Identify the 5 most popular items by purchase count, then list (in a table):\n",
    "\n",
    "Item ID\n",
    "Item Name\n",
    "Purchase Count\n",
    "Item Price\n",
    "Total Purchase Value"
   ]
  },
  {
   "cell_type": "markdown",
   "metadata": {},
   "source": [
    "Most Profitable Items\n",
    "\n",
    "Identify the 5 most profitable items by total purchase value, then list (in a table):\n",
    "\n",
    "Item ID\n",
    "Item Name\n",
    "Purchase Count\n",
    "Item Price\n",
    "Total Purchase Value"
   ]
  }
 ],
 "metadata": {
  "kernelspec": {
   "display_name": "Python [conda env:PythonData] *",
   "language": "python",
   "name": "conda-env-PythonData-py"
  },
  "language_info": {
   "codemirror_mode": {
    "name": "ipython",
    "version": 3
   },
   "file_extension": ".py",
   "mimetype": "text/x-python",
   "name": "python",
   "nbconvert_exporter": "python",
   "pygments_lexer": "ipython3",
   "version": "3.6.10"
  }
 },
 "nbformat": 4,
 "nbformat_minor": 4
}
